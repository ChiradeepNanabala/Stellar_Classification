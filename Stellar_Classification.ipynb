{
 "cells": [
  {
   "cell_type": "code",
   "execution_count": 1,
   "metadata": {
    "id": "xyAHZDLWL9zw"
   },
   "outputs": [],
   "source": [
    "# Import Necessary Libraries\n",
    "import pandas as pd\n",
    "import numpy as np\n",
    "from matplotlib import pyplot as plt\n",
    "import seaborn as sns\n",
    "import tensorflow as tf\n",
    "from sklearn.neighbors import LocalOutlierFactor\n",
    "from tensorflow import keras\n",
    "from sklearn.metrics import confusion_matrix"
   ]
  },
  {
   "cell_type": "code",
   "execution_count": 2,
   "metadata": {
    "id": "_jUkHiZ30de0"
   },
   "outputs": [],
   "source": [
    "# A random seed is a starting point in generating random numbers for computations. By setting the seed, we are ensuring that the sequence of random numbers generated is fixed and reproducible."
   ]
  },
  {
   "cell_type": "code",
   "execution_count": 3,
   "metadata": {
    "id": "fnobfynQAp3N"
   },
   "outputs": [],
   "source": [
    "# Set random seeds\n",
    "np.random.seed(42)\n",
    "tf.random.set_seed(42)"
   ]
  },
  {
   "cell_type": "markdown",
   "metadata": {
    "id": "2Cw66GUO0de1"
   },
   "source": [
    "# **1) Dataset Preparation:**"
   ]
  },
  {
   "cell_type": "code",
   "execution_count": 4,
   "metadata": {
    "colab": {
     "base_uri": "https://localhost:8080/"
    },
    "id": "ThUWoKe5L-zG",
    "outputId": "2cf912eb-e725-441b-f059-8e9d45fd9afb"
   },
   "outputs": [
    {
     "data": {
      "text/plain": [
       "(100000, 18)"
      ]
     },
     "execution_count": 4,
     "metadata": {},
     "output_type": "execute_result"
    }
   ],
   "source": [
    "df = pd.read_csv('star_classification.csv')\n",
    "df.shape"
   ]
  },
  {
   "cell_type": "code",
   "execution_count": 5,
   "metadata": {
    "colab": {
     "base_uri": "https://localhost:8080/",
     "height": 226
    },
    "id": "NZbVAh9AL_-I",
    "outputId": "827ebedb-47aa-4673-da96-eb2e45cc82db"
   },
   "outputs": [
    {
     "data": {
      "text/html": [
       "<div>\n",
       "<style scoped>\n",
       "    .dataframe tbody tr th:only-of-type {\n",
       "        vertical-align: middle;\n",
       "    }\n",
       "\n",
       "    .dataframe tbody tr th {\n",
       "        vertical-align: top;\n",
       "    }\n",
       "\n",
       "    .dataframe thead th {\n",
       "        text-align: right;\n",
       "    }\n",
       "</style>\n",
       "<table border=\"1\" class=\"dataframe\">\n",
       "  <thead>\n",
       "    <tr style=\"text-align: right;\">\n",
       "      <th></th>\n",
       "      <th>obj_ID</th>\n",
       "      <th>alpha</th>\n",
       "      <th>delta</th>\n",
       "      <th>u</th>\n",
       "      <th>g</th>\n",
       "      <th>r</th>\n",
       "      <th>i</th>\n",
       "      <th>z</th>\n",
       "      <th>run_ID</th>\n",
       "      <th>rerun_ID</th>\n",
       "      <th>cam_col</th>\n",
       "      <th>field_ID</th>\n",
       "      <th>spec_obj_ID</th>\n",
       "      <th>class</th>\n",
       "      <th>redshift</th>\n",
       "      <th>plate</th>\n",
       "      <th>MJD</th>\n",
       "      <th>fiber_ID</th>\n",
       "    </tr>\n",
       "  </thead>\n",
       "  <tbody>\n",
       "    <tr>\n",
       "      <th>75721</th>\n",
       "      <td>1.237679e+18</td>\n",
       "      <td>16.956890</td>\n",
       "      <td>3.646130</td>\n",
       "      <td>23.33542</td>\n",
       "      <td>21.95143</td>\n",
       "      <td>20.48149</td>\n",
       "      <td>19.60300</td>\n",
       "      <td>19.13094</td>\n",
       "      <td>7712</td>\n",
       "      <td>301</td>\n",
       "      <td>6</td>\n",
       "      <td>442</td>\n",
       "      <td>4.855017e+18</td>\n",
       "      <td>GALAXY</td>\n",
       "      <td>0.506237</td>\n",
       "      <td>4312</td>\n",
       "      <td>55511</td>\n",
       "      <td>495</td>\n",
       "    </tr>\n",
       "    <tr>\n",
       "      <th>80184</th>\n",
       "      <td>1.237662e+18</td>\n",
       "      <td>240.063240</td>\n",
       "      <td>6.134131</td>\n",
       "      <td>17.86033</td>\n",
       "      <td>16.79228</td>\n",
       "      <td>16.43001</td>\n",
       "      <td>16.30923</td>\n",
       "      <td>16.25873</td>\n",
       "      <td>3894</td>\n",
       "      <td>301</td>\n",
       "      <td>1</td>\n",
       "      <td>243</td>\n",
       "      <td>2.448928e+18</td>\n",
       "      <td>STAR</td>\n",
       "      <td>0.000345</td>\n",
       "      <td>2175</td>\n",
       "      <td>54612</td>\n",
       "      <td>348</td>\n",
       "    </tr>\n",
       "    <tr>\n",
       "      <th>19864</th>\n",
       "      <td>1.237679e+18</td>\n",
       "      <td>30.887222</td>\n",
       "      <td>1.188710</td>\n",
       "      <td>18.18911</td>\n",
       "      <td>16.89469</td>\n",
       "      <td>16.42161</td>\n",
       "      <td>16.24627</td>\n",
       "      <td>16.18549</td>\n",
       "      <td>7717</td>\n",
       "      <td>301</td>\n",
       "      <td>1</td>\n",
       "      <td>536</td>\n",
       "      <td>8.255357e+18</td>\n",
       "      <td>STAR</td>\n",
       "      <td>0.000004</td>\n",
       "      <td>7332</td>\n",
       "      <td>56683</td>\n",
       "      <td>943</td>\n",
       "    </tr>\n",
       "    <tr>\n",
       "      <th>76699</th>\n",
       "      <td>1.237668e+18</td>\n",
       "      <td>247.594401</td>\n",
       "      <td>10.887780</td>\n",
       "      <td>24.99961</td>\n",
       "      <td>21.71203</td>\n",
       "      <td>21.47148</td>\n",
       "      <td>21.30532</td>\n",
       "      <td>21.29109</td>\n",
       "      <td>5323</td>\n",
       "      <td>301</td>\n",
       "      <td>1</td>\n",
       "      <td>134</td>\n",
       "      <td>4.577999e+18</td>\n",
       "      <td>STAR</td>\n",
       "      <td>-0.000291</td>\n",
       "      <td>4066</td>\n",
       "      <td>55444</td>\n",
       "      <td>326</td>\n",
       "    </tr>\n",
       "    <tr>\n",
       "      <th>92991</th>\n",
       "      <td>1.237679e+18</td>\n",
       "      <td>18.896451</td>\n",
       "      <td>-5.261330</td>\n",
       "      <td>23.76648</td>\n",
       "      <td>21.79737</td>\n",
       "      <td>20.69543</td>\n",
       "      <td>20.23403</td>\n",
       "      <td>19.97464</td>\n",
       "      <td>7881</td>\n",
       "      <td>301</td>\n",
       "      <td>3</td>\n",
       "      <td>148</td>\n",
       "      <td>8.910472e+18</td>\n",
       "      <td>STAR</td>\n",
       "      <td>-0.000136</td>\n",
       "      <td>7914</td>\n",
       "      <td>57331</td>\n",
       "      <td>363</td>\n",
       "    </tr>\n",
       "  </tbody>\n",
       "</table>\n",
       "</div>"
      ],
      "text/plain": [
       "             obj_ID       alpha      delta         u         g         r  \\\n",
       "75721  1.237679e+18   16.956890   3.646130  23.33542  21.95143  20.48149   \n",
       "80184  1.237662e+18  240.063240   6.134131  17.86033  16.79228  16.43001   \n",
       "19864  1.237679e+18   30.887222   1.188710  18.18911  16.89469  16.42161   \n",
       "76699  1.237668e+18  247.594401  10.887780  24.99961  21.71203  21.47148   \n",
       "92991  1.237679e+18   18.896451  -5.261330  23.76648  21.79737  20.69543   \n",
       "\n",
       "              i         z  run_ID  rerun_ID  cam_col  field_ID   spec_obj_ID  \\\n",
       "75721  19.60300  19.13094    7712       301        6       442  4.855017e+18   \n",
       "80184  16.30923  16.25873    3894       301        1       243  2.448928e+18   \n",
       "19864  16.24627  16.18549    7717       301        1       536  8.255357e+18   \n",
       "76699  21.30532  21.29109    5323       301        1       134  4.577999e+18   \n",
       "92991  20.23403  19.97464    7881       301        3       148  8.910472e+18   \n",
       "\n",
       "        class  redshift  plate    MJD  fiber_ID  \n",
       "75721  GALAXY  0.506237   4312  55511       495  \n",
       "80184    STAR  0.000345   2175  54612       348  \n",
       "19864    STAR  0.000004   7332  56683       943  \n",
       "76699    STAR -0.000291   4066  55444       326  \n",
       "92991    STAR -0.000136   7914  57331       363  "
      ]
     },
     "execution_count": 5,
     "metadata": {},
     "output_type": "execute_result"
    }
   ],
   "source": [
    "df.sample(5)"
   ]
  },
  {
   "cell_type": "code",
   "execution_count": 6,
   "metadata": {
    "id": "xlC8ehgB0de3"
   },
   "outputs": [],
   "source": [
    "# This Dataset has 18 features and 100000 data points"
   ]
  },
  {
   "cell_type": "code",
   "execution_count": 7,
   "metadata": {
    "colab": {
     "base_uri": "https://localhost:8080/"
    },
    "id": "ta7HX0vqNZaX",
    "outputId": "f42c71ed-3851-437f-e0c5-b701cae33436"
   },
   "outputs": [
    {
     "name": "stdout",
     "output_type": "stream",
     "text": [
      "<class 'pandas.core.frame.DataFrame'>\n",
      "RangeIndex: 100000 entries, 0 to 99999\n",
      "Data columns (total 18 columns):\n",
      " #   Column       Non-Null Count   Dtype  \n",
      "---  ------       --------------   -----  \n",
      " 0   obj_ID       100000 non-null  float64\n",
      " 1   alpha        100000 non-null  float64\n",
      " 2   delta        100000 non-null  float64\n",
      " 3   u            100000 non-null  float64\n",
      " 4   g            100000 non-null  float64\n",
      " 5   r            100000 non-null  float64\n",
      " 6   i            100000 non-null  float64\n",
      " 7   z            100000 non-null  float64\n",
      " 8   run_ID       100000 non-null  int64  \n",
      " 9   rerun_ID     100000 non-null  int64  \n",
      " 10  cam_col      100000 non-null  int64  \n",
      " 11  field_ID     100000 non-null  int64  \n",
      " 12  spec_obj_ID  100000 non-null  float64\n",
      " 13  class        100000 non-null  object \n",
      " 14  redshift     100000 non-null  float64\n",
      " 15  plate        100000 non-null  int64  \n",
      " 16  MJD          100000 non-null  int64  \n",
      " 17  fiber_ID     100000 non-null  int64  \n",
      "dtypes: float64(10), int64(7), object(1)\n",
      "memory usage: 13.7+ MB\n"
     ]
    }
   ],
   "source": [
    "df.info()"
   ]
  },
  {
   "cell_type": "code",
   "execution_count": 8,
   "metadata": {
    "id": "NsBp74Zu0de3"
   },
   "outputs": [],
   "source": [
    "# This problem originally involves three classes. However, we are simplifying it to a binary classification by only considering the \"GALAXY\" and \"STAR\" classes."
   ]
  },
  {
   "cell_type": "code",
   "execution_count": 9,
   "metadata": {
    "colab": {
     "base_uri": "https://localhost:8080/"
    },
    "id": "gzpGpDVfN64y",
    "outputId": "4eb754d1-3ef5-45de-9755-56961010621a"
   },
   "outputs": [
    {
     "data": {
      "text/plain": [
       "class\n",
       "GALAXY    59445\n",
       "STAR      21594\n",
       "QSO       18961\n",
       "Name: count, dtype: int64"
      ]
     },
     "execution_count": 9,
     "metadata": {},
     "output_type": "execute_result"
    }
   ],
   "source": [
    "df['class'].value_counts()"
   ]
  },
  {
   "cell_type": "markdown",
   "metadata": {
    "id": "KbJXSzpg0de3"
   },
   "source": [
    "# **2) Dataset Pre-processing:**"
   ]
  },
  {
   "cell_type": "code",
   "execution_count": 10,
   "metadata": {
    "colab": {
     "base_uri": "https://localhost:8080/",
     "height": 226
    },
    "id": "iqzpnfRqN_e2",
    "outputId": "f0d51cff-0809-43fd-8e97-834675ad8239"
   },
   "outputs": [
    {
     "data": {
      "text/html": [
       "<div>\n",
       "<style scoped>\n",
       "    .dataframe tbody tr th:only-of-type {\n",
       "        vertical-align: middle;\n",
       "    }\n",
       "\n",
       "    .dataframe tbody tr th {\n",
       "        vertical-align: top;\n",
       "    }\n",
       "\n",
       "    .dataframe thead th {\n",
       "        text-align: right;\n",
       "    }\n",
       "</style>\n",
       "<table border=\"1\" class=\"dataframe\">\n",
       "  <thead>\n",
       "    <tr style=\"text-align: right;\">\n",
       "      <th></th>\n",
       "      <th>obj_ID</th>\n",
       "      <th>alpha</th>\n",
       "      <th>delta</th>\n",
       "      <th>u</th>\n",
       "      <th>g</th>\n",
       "      <th>r</th>\n",
       "      <th>i</th>\n",
       "      <th>z</th>\n",
       "      <th>run_ID</th>\n",
       "      <th>rerun_ID</th>\n",
       "      <th>cam_col</th>\n",
       "      <th>field_ID</th>\n",
       "      <th>spec_obj_ID</th>\n",
       "      <th>class</th>\n",
       "      <th>redshift</th>\n",
       "      <th>plate</th>\n",
       "      <th>MJD</th>\n",
       "      <th>fiber_ID</th>\n",
       "    </tr>\n",
       "  </thead>\n",
       "  <tbody>\n",
       "    <tr>\n",
       "      <th>18651</th>\n",
       "      <td>1.237647e+18</td>\n",
       "      <td>120.760881</td>\n",
       "      <td>-0.323750</td>\n",
       "      <td>20.18874</td>\n",
       "      <td>18.04045</td>\n",
       "      <td>17.10881</td>\n",
       "      <td>16.75779</td>\n",
       "      <td>16.64366</td>\n",
       "      <td>308</td>\n",
       "      <td>301</td>\n",
       "      <td>2</td>\n",
       "      <td>96</td>\n",
       "      <td>8.389118e+18</td>\n",
       "      <td>STAR</td>\n",
       "      <td>0.000444</td>\n",
       "      <td>7451</td>\n",
       "      <td>56739</td>\n",
       "      <td>138</td>\n",
       "    </tr>\n",
       "    <tr>\n",
       "      <th>36743</th>\n",
       "      <td>1.237671e+18</td>\n",
       "      <td>42.702021</td>\n",
       "      <td>34.537309</td>\n",
       "      <td>19.47893</td>\n",
       "      <td>18.10531</td>\n",
       "      <td>17.49190</td>\n",
       "      <td>17.25419</td>\n",
       "      <td>17.12719</td>\n",
       "      <td>5934</td>\n",
       "      <td>301</td>\n",
       "      <td>5</td>\n",
       "      <td>169</td>\n",
       "      <td>8.167445e+18</td>\n",
       "      <td>STAR</td>\n",
       "      <td>0.000122</td>\n",
       "      <td>7254</td>\n",
       "      <td>56625</td>\n",
       "      <td>608</td>\n",
       "    </tr>\n",
       "    <tr>\n",
       "      <th>33079</th>\n",
       "      <td>1.237661e+18</td>\n",
       "      <td>220.179021</td>\n",
       "      <td>42.710771</td>\n",
       "      <td>17.79608</td>\n",
       "      <td>16.23045</td>\n",
       "      <td>15.56904</td>\n",
       "      <td>15.21980</td>\n",
       "      <td>14.95392</td>\n",
       "      <td>3699</td>\n",
       "      <td>301</td>\n",
       "      <td>6</td>\n",
       "      <td>189</td>\n",
       "      <td>1.571913e+18</td>\n",
       "      <td>GALAXY</td>\n",
       "      <td>0.040379</td>\n",
       "      <td>1396</td>\n",
       "      <td>53112</td>\n",
       "      <td>571</td>\n",
       "    </tr>\n",
       "    <tr>\n",
       "      <th>63036</th>\n",
       "      <td>1.237658e+18</td>\n",
       "      <td>128.326315</td>\n",
       "      <td>5.105369</td>\n",
       "      <td>24.63466</td>\n",
       "      <td>21.52777</td>\n",
       "      <td>20.84914</td>\n",
       "      <td>19.97606</td>\n",
       "      <td>22.82691</td>\n",
       "      <td>2986</td>\n",
       "      <td>301</td>\n",
       "      <td>6</td>\n",
       "      <td>66</td>\n",
       "      <td>5.392154e+18</td>\n",
       "      <td>STAR</td>\n",
       "      <td>0.000095</td>\n",
       "      <td>4789</td>\n",
       "      <td>55923</td>\n",
       "      <td>798</td>\n",
       "    </tr>\n",
       "    <tr>\n",
       "      <th>27243</th>\n",
       "      <td>1.237656e+18</td>\n",
       "      <td>4.417879</td>\n",
       "      <td>15.022571</td>\n",
       "      <td>22.59921</td>\n",
       "      <td>20.69192</td>\n",
       "      <td>19.02521</td>\n",
       "      <td>18.40393</td>\n",
       "      <td>18.02068</td>\n",
       "      <td>2566</td>\n",
       "      <td>301</td>\n",
       "      <td>4</td>\n",
       "      <td>337</td>\n",
       "      <td>6.962730e+18</td>\n",
       "      <td>GALAXY</td>\n",
       "      <td>0.301355</td>\n",
       "      <td>6184</td>\n",
       "      <td>56267</td>\n",
       "      <td>600</td>\n",
       "    </tr>\n",
       "  </tbody>\n",
       "</table>\n",
       "</div>"
      ],
      "text/plain": [
       "             obj_ID       alpha      delta         u         g         r  \\\n",
       "18651  1.237647e+18  120.760881  -0.323750  20.18874  18.04045  17.10881   \n",
       "36743  1.237671e+18   42.702021  34.537309  19.47893  18.10531  17.49190   \n",
       "33079  1.237661e+18  220.179021  42.710771  17.79608  16.23045  15.56904   \n",
       "63036  1.237658e+18  128.326315   5.105369  24.63466  21.52777  20.84914   \n",
       "27243  1.237656e+18    4.417879  15.022571  22.59921  20.69192  19.02521   \n",
       "\n",
       "              i         z  run_ID  rerun_ID  cam_col  field_ID   spec_obj_ID  \\\n",
       "18651  16.75779  16.64366     308       301        2        96  8.389118e+18   \n",
       "36743  17.25419  17.12719    5934       301        5       169  8.167445e+18   \n",
       "33079  15.21980  14.95392    3699       301        6       189  1.571913e+18   \n",
       "63036  19.97606  22.82691    2986       301        6        66  5.392154e+18   \n",
       "27243  18.40393  18.02068    2566       301        4       337  6.962730e+18   \n",
       "\n",
       "        class  redshift  plate    MJD  fiber_ID  \n",
       "18651    STAR  0.000444   7451  56739       138  \n",
       "36743    STAR  0.000122   7254  56625       608  \n",
       "33079  GALAXY  0.040379   1396  53112       571  \n",
       "63036    STAR  0.000095   4789  55923       798  \n",
       "27243  GALAXY  0.301355   6184  56267       600  "
      ]
     },
     "execution_count": 10,
     "metadata": {},
     "output_type": "execute_result"
    }
   ],
   "source": [
    "df1 = df.copy()\n",
    "df1 = df1[df1['class'] != 'QSO']\n",
    "df1.sample(5)"
   ]
  },
  {
   "cell_type": "code",
   "execution_count": 11,
   "metadata": {
    "id": "nPw0syXn0de4"
   },
   "outputs": [],
   "source": [
    "# The \"STAR\" class is the smaller of the two, comprising 21,594 data points, while the \"GALAXY\" class is larger with 59,445 data points."
   ]
  },
  {
   "cell_type": "code",
   "execution_count": 12,
   "metadata": {
    "colab": {
     "base_uri": "https://localhost:8080/"
    },
    "id": "V4LhqH6TO_ox",
    "outputId": "5241cdf0-c292-4b14-9468-deda71cb5707"
   },
   "outputs": [
    {
     "data": {
      "text/plain": [
       "class\n",
       "GALAXY    59445\n",
       "STAR      21594\n",
       "Name: count, dtype: int64"
      ]
     },
     "execution_count": 12,
     "metadata": {},
     "output_type": "execute_result"
    }
   ],
   "source": [
    "df1['class'].value_counts()"
   ]
  },
  {
   "cell_type": "code",
   "execution_count": 13,
   "metadata": {
    "id": "VzOwQPKM0de4"
   },
   "outputs": [],
   "source": [
    "# we represent the 'GALAXY' class with a 0, while the 'STAR' class is denoted by 1."
   ]
  },
  {
   "cell_type": "code",
   "execution_count": 14,
   "metadata": {
    "id": "IsQICnn-PRnA"
   },
   "outputs": [],
   "source": [
    "df1['class'].replace({'GALAXY': 0, 'STAR': 1}, inplace = True)"
   ]
  },
  {
   "cell_type": "code",
   "execution_count": 15,
   "metadata": {
    "colab": {
     "base_uri": "https://localhost:8080/",
     "height": 226
    },
    "id": "9mqLiKkmPktu",
    "outputId": "0a27048c-808d-4523-c2b5-e2732d99e22a"
   },
   "outputs": [
    {
     "data": {
      "text/html": [
       "<div>\n",
       "<style scoped>\n",
       "    .dataframe tbody tr th:only-of-type {\n",
       "        vertical-align: middle;\n",
       "    }\n",
       "\n",
       "    .dataframe tbody tr th {\n",
       "        vertical-align: top;\n",
       "    }\n",
       "\n",
       "    .dataframe thead th {\n",
       "        text-align: right;\n",
       "    }\n",
       "</style>\n",
       "<table border=\"1\" class=\"dataframe\">\n",
       "  <thead>\n",
       "    <tr style=\"text-align: right;\">\n",
       "      <th></th>\n",
       "      <th>obj_ID</th>\n",
       "      <th>alpha</th>\n",
       "      <th>delta</th>\n",
       "      <th>u</th>\n",
       "      <th>g</th>\n",
       "      <th>r</th>\n",
       "      <th>i</th>\n",
       "      <th>z</th>\n",
       "      <th>run_ID</th>\n",
       "      <th>rerun_ID</th>\n",
       "      <th>cam_col</th>\n",
       "      <th>field_ID</th>\n",
       "      <th>spec_obj_ID</th>\n",
       "      <th>class</th>\n",
       "      <th>redshift</th>\n",
       "      <th>plate</th>\n",
       "      <th>MJD</th>\n",
       "      <th>fiber_ID</th>\n",
       "    </tr>\n",
       "  </thead>\n",
       "  <tbody>\n",
       "    <tr>\n",
       "      <th>11087</th>\n",
       "      <td>1.237655e+18</td>\n",
       "      <td>227.149860</td>\n",
       "      <td>-1.557491</td>\n",
       "      <td>25.39968</td>\n",
       "      <td>21.42608</td>\n",
       "      <td>20.59920</td>\n",
       "      <td>20.26007</td>\n",
       "      <td>20.29999</td>\n",
       "      <td>2334</td>\n",
       "      <td>301</td>\n",
       "      <td>4</td>\n",
       "      <td>209</td>\n",
       "      <td>1.038242e+18</td>\n",
       "      <td>1</td>\n",
       "      <td>0.000088</td>\n",
       "      <td>922</td>\n",
       "      <td>52426</td>\n",
       "      <td>590</td>\n",
       "    </tr>\n",
       "    <tr>\n",
       "      <th>87608</th>\n",
       "      <td>1.237668e+18</td>\n",
       "      <td>150.608459</td>\n",
       "      <td>21.378692</td>\n",
       "      <td>23.45529</td>\n",
       "      <td>22.55221</td>\n",
       "      <td>21.73930</td>\n",
       "      <td>21.27704</td>\n",
       "      <td>21.05502</td>\n",
       "      <td>5138</td>\n",
       "      <td>301</td>\n",
       "      <td>4</td>\n",
       "      <td>71</td>\n",
       "      <td>1.082565e+19</td>\n",
       "      <td>0</td>\n",
       "      <td>0.258063</td>\n",
       "      <td>9615</td>\n",
       "      <td>57870</td>\n",
       "      <td>456</td>\n",
       "    </tr>\n",
       "    <tr>\n",
       "      <th>60368</th>\n",
       "      <td>1.237679e+18</td>\n",
       "      <td>339.090291</td>\n",
       "      <td>3.497086</td>\n",
       "      <td>22.43694</td>\n",
       "      <td>20.10387</td>\n",
       "      <td>18.49353</td>\n",
       "      <td>17.85930</td>\n",
       "      <td>17.49599</td>\n",
       "      <td>7712</td>\n",
       "      <td>301</td>\n",
       "      <td>6</td>\n",
       "      <td>190</td>\n",
       "      <td>4.831309e+18</td>\n",
       "      <td>0</td>\n",
       "      <td>0.283980</td>\n",
       "      <td>4291</td>\n",
       "      <td>55525</td>\n",
       "      <td>264</td>\n",
       "    </tr>\n",
       "    <tr>\n",
       "      <th>55415</th>\n",
       "      <td>1.237665e+18</td>\n",
       "      <td>173.939166</td>\n",
       "      <td>35.632606</td>\n",
       "      <td>17.97109</td>\n",
       "      <td>16.78120</td>\n",
       "      <td>16.33732</td>\n",
       "      <td>16.07993</td>\n",
       "      <td>15.94425</td>\n",
       "      <td>4552</td>\n",
       "      <td>301</td>\n",
       "      <td>6</td>\n",
       "      <td>41</td>\n",
       "      <td>2.379031e+18</td>\n",
       "      <td>0</td>\n",
       "      <td>0.038829</td>\n",
       "      <td>2113</td>\n",
       "      <td>53468</td>\n",
       "      <td>17</td>\n",
       "    </tr>\n",
       "    <tr>\n",
       "      <th>90412</th>\n",
       "      <td>1.237668e+18</td>\n",
       "      <td>190.962173</td>\n",
       "      <td>22.191248</td>\n",
       "      <td>21.02208</td>\n",
       "      <td>19.00422</td>\n",
       "      <td>17.67890</td>\n",
       "      <td>17.09674</td>\n",
       "      <td>16.71361</td>\n",
       "      <td>5183</td>\n",
       "      <td>301</td>\n",
       "      <td>3</td>\n",
       "      <td>386</td>\n",
       "      <td>2.981433e+18</td>\n",
       "      <td>0</td>\n",
       "      <td>0.193542</td>\n",
       "      <td>2648</td>\n",
       "      <td>54485</td>\n",
       "      <td>181</td>\n",
       "    </tr>\n",
       "  </tbody>\n",
       "</table>\n",
       "</div>"
      ],
      "text/plain": [
       "             obj_ID       alpha      delta         u         g         r  \\\n",
       "11087  1.237655e+18  227.149860  -1.557491  25.39968  21.42608  20.59920   \n",
       "87608  1.237668e+18  150.608459  21.378692  23.45529  22.55221  21.73930   \n",
       "60368  1.237679e+18  339.090291   3.497086  22.43694  20.10387  18.49353   \n",
       "55415  1.237665e+18  173.939166  35.632606  17.97109  16.78120  16.33732   \n",
       "90412  1.237668e+18  190.962173  22.191248  21.02208  19.00422  17.67890   \n",
       "\n",
       "              i         z  run_ID  rerun_ID  cam_col  field_ID   spec_obj_ID  \\\n",
       "11087  20.26007  20.29999    2334       301        4       209  1.038242e+18   \n",
       "87608  21.27704  21.05502    5138       301        4        71  1.082565e+19   \n",
       "60368  17.85930  17.49599    7712       301        6       190  4.831309e+18   \n",
       "55415  16.07993  15.94425    4552       301        6        41  2.379031e+18   \n",
       "90412  17.09674  16.71361    5183       301        3       386  2.981433e+18   \n",
       "\n",
       "       class  redshift  plate    MJD  fiber_ID  \n",
       "11087      1  0.000088    922  52426       590  \n",
       "87608      0  0.258063   9615  57870       456  \n",
       "60368      0  0.283980   4291  55525       264  \n",
       "55415      0  0.038829   2113  53468        17  \n",
       "90412      0  0.193542   2648  54485       181  "
      ]
     },
     "execution_count": 15,
     "metadata": {},
     "output_type": "execute_result"
    }
   ],
   "source": [
    "df1.sample(5)"
   ]
  },
  {
   "cell_type": "code",
   "execution_count": 16,
   "metadata": {
    "colab": {
     "base_uri": "https://localhost:8080/"
    },
    "id": "v2vF0Mb3QToW",
    "outputId": "ab7b4ed6-e91f-444a-a8be-37720a89a63b"
   },
   "outputs": [
    {
     "data": {
      "text/plain": [
       "class\n",
       "0    59445\n",
       "1    21594\n",
       "Name: count, dtype: int64"
      ]
     },
     "execution_count": 16,
     "metadata": {},
     "output_type": "execute_result"
    }
   ],
   "source": [
    "df1['class'].value_counts()"
   ]
  },
  {
   "cell_type": "code",
   "execution_count": 17,
   "metadata": {
    "id": "5DHfMlKJ0de5"
   },
   "outputs": [],
   "source": [
    "# Pie Chart representing number of data points under each class."
   ]
  },
  {
   "cell_type": "code",
   "execution_count": 18,
   "metadata": {
    "id": "vwjW_xvt12UJ",
    "outputId": "f37bd532-f381-4d12-a7f4-e21d66571be9"
   },
   "outputs": [
    {
     "data": {
      "text/plain": [
       "<matplotlib.legend.Legend at 0x2612c14e950>"
      ]
     },
     "execution_count": 18,
     "metadata": {},
     "output_type": "execute_result"
    },
    {
     "data": {
      "image/png": "[encoded data removed]",
      "text/plain": [
       "<Figure size 640x480 with 1 Axes>"
      ]
     },
     "metadata": {},
     "output_type": "display_data"
    }
   ],
   "source": [
    "plt.pie(df1['class'].value_counts(), autopct=\"%1.1f%%\", labels=['GALAXY', 'STAR'])\n",
    "plt.legend()"
   ]
  },
  {
   "cell_type": "markdown",
   "metadata": {
    "id": "inS-nBKnQm_v"
   },
   "source": [
    "# **Check for Missing Values:**"
   ]
  },
  {
   "cell_type": "code",
   "execution_count": 19,
   "metadata": {
    "id": "WDl9rmQ20de5"
   },
   "outputs": [],
   "source": [
    "# There are no missing values in our dataset."
   ]
  },
  {
   "cell_type": "code",
   "execution_count": 20,
   "metadata": {
    "colab": {
     "base_uri": "https://localhost:8080/"
    },
    "id": "rq6UqFRQPA8O",
    "outputId": "0f7f1a4b-d809-429a-a8ec-5b15a3178e7c"
   },
   "outputs": [
    {
     "data": {
      "text/plain": [
       "obj_ID         0\n",
       "alpha          0\n",
       "delta          0\n",
       "u              0\n",
       "g              0\n",
       "r              0\n",
       "i              0\n",
       "z              0\n",
       "run_ID         0\n",
       "rerun_ID       0\n",
       "cam_col        0\n",
       "field_ID       0\n",
       "spec_obj_ID    0\n",
       "class          0\n",
       "redshift       0\n",
       "plate          0\n",
       "MJD            0\n",
       "fiber_ID       0\n",
       "dtype: int64"
      ]
     },
     "execution_count": 20,
     "metadata": {},
     "output_type": "execute_result"
    }
   ],
   "source": [
    "df1.isnull().sum()"
   ]
  },
  {
   "cell_type": "code",
   "execution_count": 21,
   "metadata": {
    "colab": {
     "base_uri": "https://localhost:8080/"
    },
    "id": "9U6xLwRuQaWV",
    "outputId": "483ee11c-916b-4b52-a411-bff2a6bcf294"
   },
   "outputs": [
    {
     "data": {
      "text/plain": [
       "((59445, 18), (21594, 18))"
      ]
     },
     "execution_count": 21,
     "metadata": {},
     "output_type": "execute_result"
    }
   ],
   "source": [
    "df1[df1['class'] == 0].shape, df1[df1['class'] == 1].shape"
   ]
  },
  {
   "cell_type": "markdown",
   "metadata": {
    "id": "aF9W-JinVAe4"
   },
   "source": [
    "# **Detecting Outliers:**"
   ]
  },
  {
   "cell_type": "code",
   "execution_count": 22,
   "metadata": {
    "id": "V6UuplHk0de6"
   },
   "outputs": [],
   "source": [
    "# The purpose of this code is to detect and remove outliers from the dataset using the Local Outlier Factor (LOF) method."
   ]
  },
  {
   "cell_type": "code",
   "execution_count": 23,
   "metadata": {
    "id": "zc8d9LPjRBy5",
    "outputId": "559e08d9-06a0-4f2b-b0e9-090e59bc3e36"
   },
   "outputs": [
    {
     "data": {
      "text/plain": [
       "11575"
      ]
     },
     "execution_count": 23,
     "metadata": {},
     "output_type": "execute_result"
    }
   ],
   "source": [
    "# Instantiate the LocalOutlierFactor model\n",
    "lof_model = LocalOutlierFactor()\n",
    "\n",
    "# Fit the model to the data and get predictions\n",
    "predictions = lof_model.fit_predict(df1)\n",
    "\n",
    "# Get the negative outlier factor scores\n",
    "lof_scores = lof_model.negative_outlier_factor_\n",
    "\n",
    "# Create a DataFrame to store the scores\n",
    "outlier_scores_df = pd.DataFrame()\n",
    "outlier_scores_df[\"lof_score\"] = lof_scores\n",
    "\n",
    "# Set a threshold for outlier detection\n",
    "outlier_threshold = -1.5\n",
    "is_outlier = outlier_scores_df[\"lof_score\"] < outlier_threshold\n",
    "\n",
    "# Get the indices of the outliers\n",
    "detected_outliers = outlier_scores_df[is_outlier].index.tolist()\n",
    "len(detected_outliers)"
   ]
  },
  {
   "cell_type": "code",
   "execution_count": 24,
   "metadata": {
    "id": "huLwl2DogYkG",
    "outputId": "8d1878f1-73a0-43b8-a8b1-be77ccb4e693"
   },
   "outputs": [
    {
     "data": {
      "text/plain": [
       "9461"
      ]
     },
     "execution_count": 24,
     "metadata": {},
     "output_type": "execute_result"
    }
   ],
   "source": [
    "outliers_index = list(set(detected_outliers) & set(df1.index))\n",
    "len(outliers_index)"
   ]
  },
  {
   "cell_type": "code",
   "execution_count": 25,
   "metadata": {
    "id": "IJpZ9eZvRIZu"
   },
   "outputs": [],
   "source": [
    "# Drop outlier index values\n",
    "df1.drop(outliers_index, inplace=True)"
   ]
  },
  {
   "cell_type": "code",
   "execution_count": 26,
   "metadata": {
    "id": "9f302Dxgdo0D",
    "outputId": "45e01408-10f3-4659-9352-4fa443f6e797"
   },
   "outputs": [
    {
     "data": {
      "text/plain": [
       "class\n",
       "0    52537\n",
       "1    19041\n",
       "Name: count, dtype: int64"
      ]
     },
     "execution_count": 26,
     "metadata": {},
     "output_type": "execute_result"
    }
   ],
   "source": [
    "df1['class'].value_counts()"
   ]
  },
  {
   "cell_type": "code",
   "execution_count": 27,
   "metadata": {
    "id": "BEdPzHXu0de6"
   },
   "outputs": [],
   "source": [
    "# Removes below columns from the dataframe `df1` which are unnecessary or irrelevant for further analysis."
   ]
  },
  {
   "cell_type": "code",
   "execution_count": 28,
   "metadata": {
    "id": "MLrgm8f9nB3v"
   },
   "outputs": [],
   "source": [
    "df1.drop(['run_ID','rerun_ID','cam_col','field_ID','spec_obj_ID','fiber_ID','obj_ID'], axis=1, inplace = True)"
   ]
  },
  {
   "cell_type": "code",
   "execution_count": 29,
   "metadata": {
    "id": "aGASPUBWoy-h",
    "outputId": "ce5fc86a-b7e0-44a4-c67b-8b51dbd92c34"
   },
   "outputs": [
    {
     "data": {
      "text/html": [
       "<div>\n",
       "<style scoped>\n",
       "    .dataframe tbody tr th:only-of-type {\n",
       "        vertical-align: middle;\n",
       "    }\n",
       "\n",
       "    .dataframe tbody tr th {\n",
       "        vertical-align: top;\n",
       "    }\n",
       "\n",
       "    .dataframe thead th {\n",
       "        text-align: right;\n",
       "    }\n",
       "</style>\n",
       "<table border=\"1\" class=\"dataframe\">\n",
       "  <thead>\n",
       "    <tr style=\"text-align: right;\">\n",
       "      <th></th>\n",
       "      <th>alpha</th>\n",
       "      <th>delta</th>\n",
       "      <th>u</th>\n",
       "      <th>g</th>\n",
       "      <th>r</th>\n",
       "      <th>i</th>\n",
       "      <th>z</th>\n",
       "      <th>class</th>\n",
       "      <th>redshift</th>\n",
       "      <th>plate</th>\n",
       "      <th>MJD</th>\n",
       "    </tr>\n",
       "  </thead>\n",
       "  <tbody>\n",
       "    <tr>\n",
       "      <th>34970</th>\n",
       "      <td>16.596039</td>\n",
       "      <td>4.375856</td>\n",
       "      <td>22.56670</td>\n",
       "      <td>22.76008</td>\n",
       "      <td>21.82710</td>\n",
       "      <td>21.32228</td>\n",
       "      <td>21.15675</td>\n",
       "      <td>0</td>\n",
       "      <td>0.862050</td>\n",
       "      <td>9436</td>\n",
       "      <td>58103</td>\n",
       "    </tr>\n",
       "    <tr>\n",
       "      <th>41942</th>\n",
       "      <td>245.481223</td>\n",
       "      <td>62.761903</td>\n",
       "      <td>18.22586</td>\n",
       "      <td>16.60549</td>\n",
       "      <td>15.97266</td>\n",
       "      <td>15.71602</td>\n",
       "      <td>15.58969</td>\n",
       "      <td>1</td>\n",
       "      <td>-0.000320</td>\n",
       "      <td>2550</td>\n",
       "      <td>54206</td>\n",
       "    </tr>\n",
       "    <tr>\n",
       "      <th>49361</th>\n",
       "      <td>212.128242</td>\n",
       "      <td>65.890093</td>\n",
       "      <td>24.77479</td>\n",
       "      <td>20.47240</td>\n",
       "      <td>18.76581</td>\n",
       "      <td>18.16518</td>\n",
       "      <td>17.89754</td>\n",
       "      <td>0</td>\n",
       "      <td>0.331987</td>\n",
       "      <td>6986</td>\n",
       "      <td>56717</td>\n",
       "    </tr>\n",
       "    <tr>\n",
       "      <th>6035</th>\n",
       "      <td>164.879298</td>\n",
       "      <td>27.268504</td>\n",
       "      <td>20.54793</td>\n",
       "      <td>18.24798</td>\n",
       "      <td>17.23619</td>\n",
       "      <td>16.85455</td>\n",
       "      <td>16.59535</td>\n",
       "      <td>1</td>\n",
       "      <td>-0.000105</td>\n",
       "      <td>2855</td>\n",
       "      <td>54466</td>\n",
       "    </tr>\n",
       "    <tr>\n",
       "      <th>16942</th>\n",
       "      <td>331.191760</td>\n",
       "      <td>12.566698</td>\n",
       "      <td>23.30139</td>\n",
       "      <td>22.12628</td>\n",
       "      <td>20.86453</td>\n",
       "      <td>19.94006</td>\n",
       "      <td>19.27407</td>\n",
       "      <td>0</td>\n",
       "      <td>0.599647</td>\n",
       "      <td>5064</td>\n",
       "      <td>55864</td>\n",
       "    </tr>\n",
       "  </tbody>\n",
       "</table>\n",
       "</div>"
      ],
      "text/plain": [
       "            alpha      delta         u         g         r         i  \\\n",
       "34970   16.596039   4.375856  22.56670  22.76008  21.82710  21.32228   \n",
       "41942  245.481223  62.761903  18.22586  16.60549  15.97266  15.71602   \n",
       "49361  212.128242  65.890093  24.77479  20.47240  18.76581  18.16518   \n",
       "6035   164.879298  27.268504  20.54793  18.24798  17.23619  16.85455   \n",
       "16942  331.191760  12.566698  23.30139  22.12628  20.86453  19.94006   \n",
       "\n",
       "              z  class  redshift  plate    MJD  \n",
       "34970  21.15675      0  0.862050   9436  58103  \n",
       "41942  15.58969      1 -0.000320   2550  54206  \n",
       "49361  17.89754      0  0.331987   6986  56717  \n",
       "6035   16.59535      1 -0.000105   2855  54466  \n",
       "16942  19.27407      0  0.599647   5064  55864  "
      ]
     },
     "execution_count": 29,
     "metadata": {},
     "output_type": "execute_result"
    }
   ],
   "source": [
    "df1.sample(5)"
   ]
  },
  {
   "cell_type": "code",
   "execution_count": 30,
   "metadata": {
    "id": "n9UMZbTyoz92",
    "outputId": "f6d2a8ab-6c64-439d-fb80-a5a836adb1b5"
   },
   "outputs": [
    {
     "data": {
      "text/plain": [
       "(71578, 11)"
      ]
     },
     "execution_count": 30,
     "metadata": {},
     "output_type": "execute_result"
    }
   ],
   "source": [
    "df1.shape"
   ]
  },
  {
   "cell_type": "code",
   "execution_count": 31,
   "metadata": {
    "id": "lOptQpQ3o7iN",
    "outputId": "0c047c2a-3bbb-4b32-dae5-844140be6f28"
   },
   "outputs": [
    {
     "data": {
      "text/plain": [
       "class\n",
       "0    52537\n",
       "1    19041\n",
       "Name: count, dtype: int64"
      ]
     },
     "execution_count": 31,
     "metadata": {},
     "output_type": "execute_result"
    }
   ],
   "source": [
    "df1['class'].value_counts()"
   ]
  },
  {
   "cell_type": "code",
   "execution_count": 32,
   "metadata": {
    "id": "jqjwmBbq0de7"
   },
   "outputs": [],
   "source": [
    "# This code represents the count of unique values for each attribute."
   ]
  },
  {
   "cell_type": "code",
   "execution_count": 33,
   "metadata": {
    "id": "XLznju4-pacd",
    "outputId": "0c343d45-0c1e-44bd-8ac0-25d629bc5e93"
   },
   "outputs": [
    {
     "data": {
      "text/plain": [
       "alpha       71578\n",
       "delta       71578\n",
       "u           68372\n",
       "g           67859\n",
       "r           67565\n",
       "i           67323\n",
       "z           67132\n",
       "class           2\n",
       "redshift    71070\n",
       "plate        6201\n",
       "MJD          2171\n",
       "dtype: int64"
      ]
     },
     "execution_count": 33,
     "metadata": {},
     "output_type": "execute_result"
    }
   ],
   "source": [
    "df1.nunique()"
   ]
  },
  {
   "cell_type": "code",
   "execution_count": 34,
   "metadata": {
    "id": "iX5GEv2K0de7"
   },
   "outputs": [],
   "source": [
    "# This code represents the unique values for each attribute."
   ]
  },
  {
   "cell_type": "code",
   "execution_count": 35,
   "metadata": {
    "id": "NKm5uEg7pbDE",
    "outputId": "586243c7-160a-4b90-a0e8-5b28a13cbefe"
   },
   "outputs": [
    {
     "name": "stdout",
     "output_type": "stream",
     "text": [
      "[135.6891066  144.82610055 142.18878956 ... 224.58740744 212.26862112\n",
      " 196.89605297]\n",
      "[32.49463184 31.27418489 35.58244418 ... 15.70070739 46.66036528\n",
      " 49.46464277]\n",
      "[23.87882 24.77759 25.26307 ... 21.16916 25.35039 22.62171]\n",
      "[22.2753  22.83188 22.66389 ... 19.26997 21.63757 21.79745]\n",
      "[20.39501 22.58444 20.60976 ... 18.20428 19.91386 20.60115]\n",
      "[19.16573 21.16812 19.34857 ... 17.69034 19.07254 20.00959]\n",
      "[18.79371 21.61427 18.94827 ... 19.41526 17.35221 18.62482]\n",
      "[0 1]\n",
      "[0.6347936 0.779136  0.6441945 ... 0.1433656 0.4550396 0.5429442]\n",
      "[ 5812 10445  4576 ... 11384 11385 10471]\n",
      "[56354 58158 55592 ... 57673 51688 53855]\n"
     ]
    }
   ],
   "source": [
    "for column in df1:\n",
    "  print(df1[column].unique())"
   ]
  },
  {
   "cell_type": "code",
   "execution_count": 36,
   "metadata": {
    "id": "71bL7hAHqJnW",
    "outputId": "876bc169-afff-4d85-893d-6269e91a0493"
   },
   "outputs": [
    {
     "data": {
      "text/plain": [
       "class\n",
       "0    52537\n",
       "1    19041\n",
       "Name: count, dtype: int64"
      ]
     },
     "execution_count": 36,
     "metadata": {},
     "output_type": "execute_result"
    }
   ],
   "source": [
    "df1['class'].value_counts()"
   ]
  },
  {
   "cell_type": "markdown",
   "metadata": {
    "id": "mdgO3taq0dfF"
   },
   "source": [
    "# **3) Feature Scaling:**"
   ]
  },
  {
   "cell_type": "code",
   "execution_count": 37,
   "metadata": {
    "id": "OPYwaEsN0dfF"
   },
   "outputs": [],
   "source": [
    "# The below code applies MinMax scaling to all columns in the dataframe `df1`, except for the 'class' column. This brings all the values ranging from 0 to 1."
   ]
  },
  {
   "cell_type": "code",
   "execution_count": 38,
   "metadata": {
    "id": "vtOg3rfKvX_g",
    "outputId": "763a0437-c560-4a9c-ea7a-1225440de6af"
   },
   "outputs": [
    {
     "data": {
      "text/html": [
       "<div>\n",
       "<style scoped>\n",
       "    .dataframe tbody tr th:only-of-type {\n",
       "        vertical-align: middle;\n",
       "    }\n",
       "\n",
       "    .dataframe tbody tr th {\n",
       "        vertical-align: top;\n",
       "    }\n",
       "\n",
       "    .dataframe thead th {\n",
       "        text-align: right;\n",
       "    }\n",
       "</style>\n",
       "<table border=\"1\" class=\"dataframe\">\n",
       "  <thead>\n",
       "    <tr style=\"text-align: right;\">\n",
       "      <th></th>\n",
       "      <th>alpha</th>\n",
       "      <th>delta</th>\n",
       "      <th>u</th>\n",
       "      <th>g</th>\n",
       "      <th>r</th>\n",
       "      <th>i</th>\n",
       "      <th>z</th>\n",
       "      <th>class</th>\n",
       "      <th>redshift</th>\n",
       "      <th>plate</th>\n",
       "      <th>MJD</th>\n",
       "    </tr>\n",
       "  </thead>\n",
       "  <tbody>\n",
       "    <tr>\n",
       "      <th>57213</th>\n",
       "      <td>0.652465</td>\n",
       "      <td>0.301290</td>\n",
       "      <td>0.998917</td>\n",
       "      <td>0.998633</td>\n",
       "      <td>0.354832</td>\n",
       "      <td>0.320918</td>\n",
       "      <td>0.998832</td>\n",
       "      <td>0</td>\n",
       "      <td>0.051274</td>\n",
       "      <td>0.183210</td>\n",
       "      <td>0.359503</td>\n",
       "    </tr>\n",
       "    <tr>\n",
       "      <th>56650</th>\n",
       "      <td>0.649993</td>\n",
       "      <td>0.449453</td>\n",
       "      <td>0.999273</td>\n",
       "      <td>0.999120</td>\n",
       "      <td>0.567835</td>\n",
       "      <td>0.491684</td>\n",
       "      <td>0.999186</td>\n",
       "      <td>0</td>\n",
       "      <td>0.352622</td>\n",
       "      <td>0.300220</td>\n",
       "      <td>0.507100</td>\n",
       "    </tr>\n",
       "    <tr>\n",
       "      <th>20408</th>\n",
       "      <td>0.625335</td>\n",
       "      <td>0.525531</td>\n",
       "      <td>0.999313</td>\n",
       "      <td>0.999176</td>\n",
       "      <td>0.600034</td>\n",
       "      <td>0.522940</td>\n",
       "      <td>0.999198</td>\n",
       "      <td>0</td>\n",
       "      <td>0.415153</td>\n",
       "      <td>0.853432</td>\n",
       "      <td>0.902785</td>\n",
       "    </tr>\n",
       "    <tr>\n",
       "      <th>62815</th>\n",
       "      <td>0.322990</td>\n",
       "      <td>0.522941</td>\n",
       "      <td>0.999003</td>\n",
       "      <td>0.998704</td>\n",
       "      <td>0.386008</td>\n",
       "      <td>0.351767</td>\n",
       "      <td>0.998904</td>\n",
       "      <td>0</td>\n",
       "      <td>0.046873</td>\n",
       "      <td>0.022474</td>\n",
       "      <td>0.052567</td>\n",
       "    </tr>\n",
       "    <tr>\n",
       "      <th>11615</th>\n",
       "      <td>0.506163</td>\n",
       "      <td>0.600289</td>\n",
       "      <td>0.999139</td>\n",
       "      <td>0.998956</td>\n",
       "      <td>0.555312</td>\n",
       "      <td>0.534049</td>\n",
       "      <td>0.999299</td>\n",
       "      <td>1</td>\n",
       "      <td>0.004550</td>\n",
       "      <td>0.660858</td>\n",
       "      <td>0.806253</td>\n",
       "    </tr>\n",
       "  </tbody>\n",
       "</table>\n",
       "</div>"
      ],
      "text/plain": [
       "          alpha     delta         u         g         r         i         z  \\\n",
       "57213  0.652465  0.301290  0.998917  0.998633  0.354832  0.320918  0.998832   \n",
       "56650  0.649993  0.449453  0.999273  0.999120  0.567835  0.491684  0.999186   \n",
       "20408  0.625335  0.525531  0.999313  0.999176  0.600034  0.522940  0.999198   \n",
       "62815  0.322990  0.522941  0.999003  0.998704  0.386008  0.351767  0.998904   \n",
       "11615  0.506163  0.600289  0.999139  0.998956  0.555312  0.534049  0.999299   \n",
       "\n",
       "       class  redshift     plate       MJD  \n",
       "57213      0  0.051274  0.183210  0.359503  \n",
       "56650      0  0.352622  0.300220  0.507100  \n",
       "20408      0  0.415153  0.853432  0.902785  \n",
       "62815      0  0.046873  0.022474  0.052567  \n",
       "11615      1  0.004550  0.660858  0.806253  "
      ]
     },
     "execution_count": 38,
     "metadata": {},
     "output_type": "execute_result"
    }
   ],
   "source": [
    "columns_to_scale = [col for col in df1.columns if col != 'class']\n",
    "\n",
    "from sklearn.preprocessing import MinMaxScaler\n",
    "scaler = MinMaxScaler()\n",
    "df1[columns_to_scale] = scaler.fit_transform(df1[columns_to_scale])\n",
    "df1.sample(5)"
   ]
  },
  {
   "cell_type": "code",
   "execution_count": 39,
   "metadata": {
    "id": "J_JXLNwjqQko",
    "outputId": "b4c689a2-0003-4e79-abbd-fb50b4430624"
   },
   "outputs": [
    {
     "data": {
      "text/plain": [
       "(52537, 19041)"
      ]
     },
     "execution_count": 39,
     "metadata": {},
     "output_type": "execute_result"
    }
   ],
   "source": [
    "galaxy = df1[df1['class'] == 0]\n",
    "star = df1[df1['class'] == 1]\n",
    "len(galaxy), len(star)"
   ]
  },
  {
   "cell_type": "markdown",
   "metadata": {
    "id": "lBrundcI0dfG"
   },
   "source": [
    "# **4) Dataset Splitting into Train and Test:**"
   ]
  },
  {
   "cell_type": "code",
   "execution_count": 40,
   "metadata": {
    "id": "3oqF1hCu0dfG"
   },
   "outputs": [],
   "source": [
    "# Based on the specifications, we've taken the size of the smaller class and divided it by three to determine the test size. Subsequently, we sampled this test size from each class and combined them"
   ]
  },
  {
   "cell_type": "code",
   "execution_count": 41,
   "metadata": {
    "id": "0HV_0Ph-qMvf",
    "outputId": "87411af2-dc4a-43b9-bfd0-a06529322b87"
   },
   "outputs": [
    {
     "data": {
      "text/plain": [
       "(6347, 6347, 12694)"
      ]
     },
     "execution_count": 41,
     "metadata": {},
     "output_type": "execute_result"
    }
   ],
   "source": [
    "# Create Test Set Preparation\n",
    "test_size = len(star) // 3\n",
    "test_galaxy = galaxy.sample(test_size)\n",
    "test_star = star.sample(test_size)\n",
    "\n",
    "test = pd.concat([test_galaxy, test_star])\n",
    "test.reset_index(drop=True, inplace=True)\n",
    "\n",
    "len(test_galaxy), len(test_star), len(test)"
   ]
  },
  {
   "cell_type": "code",
   "execution_count": 42,
   "metadata": {
    "id": "gWQV4gMA0dfG"
   },
   "outputs": [],
   "source": [
    "# Here, we perform oversampling, for balancing the smaller class."
   ]
  },
  {
   "cell_type": "code",
   "execution_count": 43,
   "metadata": {
    "id": "p2fLB31jrUVI",
    "outputId": "d81435b4-f3fe-46f5-949b-50d370c9d83c"
   },
   "outputs": [
    {
     "data": {
      "text/plain": [
       "(46190, 12694, 46190, 92380)"
      ]
     },
     "execution_count": 43,
     "metadata": {},
     "output_type": "execute_result"
    }
   ],
   "source": [
    "# Training Set Preparation\n",
    "train_galaxy = galaxy.drop(test_galaxy.index)\n",
    "train_star = star.drop(test_star.index)\n",
    "\n",
    "train_star_balanced = train_star.sample(len(train_galaxy), replace=True)\n",
    "train = pd.concat([train_galaxy, train_star_balanced])\n",
    "train.reset_index(drop=True, inplace=True)\n",
    "\n",
    "len(train_galaxy), len(train_star), len(train_star_balanced), len(train)"
   ]
  },
  {
   "cell_type": "code",
   "execution_count": 44,
   "metadata": {
    "id": "sYU_QRw75i72"
   },
   "outputs": [],
   "source": [
    "X_train = train.drop('class', axis = 'columns')\n",
    "y_train = train['class']\n",
    "\n",
    "X_test = test.drop('class', axis = 'columns')\n",
    "y_test = test['class']"
   ]
  },
  {
   "cell_type": "code",
   "execution_count": 45,
   "metadata": {
    "id": "Wnr7e_Ce0dfG"
   },
   "outputs": [],
   "source": [
    "# Below are the shapes of X_train, y_train, X_test, and y_test after sampling. This shows that we have balanced dataset."
   ]
  },
  {
   "cell_type": "code",
   "execution_count": 46,
   "metadata": {
    "id": "7WI3p-RW66GY",
    "outputId": "80db90bb-4592-4b98-840f-17a82dd83174"
   },
   "outputs": [
    {
     "data": {
      "text/plain": [
       "((92380, 10), (92380,), (12694, 10), (12694,))"
      ]
     },
     "execution_count": 46,
     "metadata": {},
     "output_type": "execute_result"
    }
   ],
   "source": [
    "X_train.shape, y_train.shape, X_test.shape, y_test.shape"
   ]
  },
  {
   "cell_type": "code",
   "execution_count": 47,
   "metadata": {
    "id": "oPRuSvX0MLkL",
    "outputId": "8f82e3cf-bec9-4e88-ab7c-ecaeb9961c55"
   },
   "outputs": [
    {
     "data": {
      "text/plain": [
       "class\n",
       "0    46190\n",
       "1    46190\n",
       "Name: count, dtype: int64"
      ]
     },
     "execution_count": 47,
     "metadata": {},
     "output_type": "execute_result"
    }
   ],
   "source": [
    "y_train.value_counts()"
   ]
  },
  {
   "cell_type": "code",
   "execution_count": 48,
   "metadata": {
    "id": "-gSYRcYPJTY5",
    "outputId": "0e98e3c5-8a01-43c7-e8e9-f5db35b9263f"
   },
   "outputs": [
    {
     "data": {
      "text/plain": [
       "class\n",
       "0    6347\n",
       "1    6347\n",
       "Name: count, dtype: int64"
      ]
     },
     "execution_count": 48,
     "metadata": {},
     "output_type": "execute_result"
    }
   ],
   "source": [
    "y_test.value_counts()"
   ]
  },
  {
   "cell_type": "markdown",
   "metadata": {
    "id": "Msoix5V90dfH"
   },
   "source": [
    "# **5) Model Building:**"
   ]
  },
  {
   "cell_type": "code",
   "execution_count": 49,
   "metadata": {},
   "outputs": [],
   "source": [
    "# Defining h-h-1 feedforward NN Model \n",
    "def train_model(X_train, y_train, X_test, y_test, learning_rate=0.001):\n",
    "    \n",
    "    # Determine the number of input features from the training data.\n",
    "    input_shape = X_train.shape[1]\n",
    "\n",
    "    # Define a simple feed-forward neural network model with a single hidden layer.\n",
    "    model = tf.keras.Sequential([\n",
    "        keras.layers.Dense(input_shape, input_shape=(input_shape, ), activation='tanh'),\n",
    "        keras.layers.Dense(1, activation='sigmoid')\n",
    "    ])\n",
    "    \n",
    "    # Initialize the Adam optimizer with the provided learning rate.\n",
    "    optimizer = tf.keras.optimizers.Adam(learning_rate=learning_rate)\n",
    "    model.compile(optimizer=optimizer, loss='binary_crossentropy', metrics=['accuracy'])\n",
    "    \n",
    "    # Define an early stopping callback to halt training if accuracy doesn't improve for 10 consecutive epochs.\n",
    "    early_stopping = tf.keras.callbacks.EarlyStopping(monitor='accuracy', patience=10, restore_best_weights=True)\n",
    "    \n",
    "    # Train the model for a maximum of 50 epochs, using a batch size of 32.\n",
    "    # Training data is provided, and accuracy is also validated on the test data.\n",
    "    history = model.fit(X_train, y_train, epochs=50, batch_size=32, verbose=1, validation_data=(X_test, y_test), callbacks=[early_stopping])\n",
    "    return model, history"
   ]
  },
  {
   "cell_type": "code",
   "execution_count": 50,
   "metadata": {},
   "outputs": [
    {
     "name": "stdout",
     "output_type": "stream",
     "text": [
      "Epoch 1/50\n",
      "2887/2887 [==============================] - 7s 2ms/step - loss: 0.3421 - accuracy: 0.8849 - val_loss: 0.1484 - val_accuracy: 0.9595\n",
      "Epoch 2/50\n",
      "2887/2887 [==============================] - 6s 2ms/step - loss: 0.1049 - accuracy: 0.9758 - val_loss: 0.0746 - val_accuracy: 0.9838\n",
      "Epoch 3/50\n",
      "2887/2887 [==============================] - 6s 2ms/step - loss: 0.0612 - accuracy: 0.9851 - val_loss: 0.0481 - val_accuracy: 0.9875\n",
      "Epoch 4/50\n",
      "2887/2887 [==============================] - 6s 2ms/step - loss: 0.0446 - accuracy: 0.9897 - val_loss: 0.0377 - val_accuracy: 0.9909\n",
      "Epoch 5/50\n",
      "2887/2887 [==============================] - 6s 2ms/step - loss: 0.0376 - accuracy: 0.9915 - val_loss: 0.0333 - val_accuracy: 0.9924\n",
      "Epoch 6/50\n",
      "2887/2887 [==============================] - 6s 2ms/step - loss: 0.0342 - accuracy: 0.9927 - val_loss: 0.0297 - val_accuracy: 0.9943\n",
      "Epoch 7/50\n",
      "2887/2887 [==============================] - 6s 2ms/step - loss: 0.0319 - accuracy: 0.9933 - val_loss: 0.0309 - val_accuracy: 0.9950\n",
      "Epoch 8/50\n",
      "2887/2887 [==============================] - 6s 2ms/step - loss: 0.0308 - accuracy: 0.9937 - val_loss: 0.0272 - val_accuracy: 0.9942\n",
      "Epoch 9/50\n",
      "2887/2887 [==============================] - 6s 2ms/step - loss: 0.0298 - accuracy: 0.9939 - val_loss: 0.0267 - val_accuracy: 0.9942\n",
      "Epoch 10/50\n",
      "2887/2887 [==============================] - 6s 2ms/step - loss: 0.0290 - accuracy: 0.9941 - val_loss: 0.0250 - val_accuracy: 0.9950\n",
      "Epoch 11/50\n",
      "2887/2887 [==============================] - 6s 2ms/step - loss: 0.0286 - accuracy: 0.9943 - val_loss: 0.0247 - val_accuracy: 0.9953\n",
      "Epoch 12/50\n",
      "2887/2887 [==============================] - 5s 2ms/step - loss: 0.0286 - accuracy: 0.9943 - val_loss: 0.0249 - val_accuracy: 0.9954\n",
      "Epoch 13/50\n",
      "2887/2887 [==============================] - 6s 2ms/step - loss: 0.0283 - accuracy: 0.9945 - val_loss: 0.0252 - val_accuracy: 0.9950\n",
      "Epoch 14/50\n",
      "2887/2887 [==============================] - 6s 2ms/step - loss: 0.0276 - accuracy: 0.9945 - val_loss: 0.0235 - val_accuracy: 0.9953\n",
      "Epoch 15/50\n",
      "2887/2887 [==============================] - 5s 2ms/step - loss: 0.0279 - accuracy: 0.9946 - val_loss: 0.0253 - val_accuracy: 0.9956\n",
      "Epoch 16/50\n",
      "2887/2887 [==============================] - 6s 2ms/step - loss: 0.0274 - accuracy: 0.9947 - val_loss: 0.0231 - val_accuracy: 0.9953\n",
      "Epoch 17/50\n",
      "2887/2887 [==============================] - 6s 2ms/step - loss: 0.0273 - accuracy: 0.9947 - val_loss: 0.0239 - val_accuracy: 0.9956\n",
      "Epoch 18/50\n",
      "2887/2887 [==============================] - 6s 2ms/step - loss: 0.0271 - accuracy: 0.9947 - val_loss: 0.0228 - val_accuracy: 0.9953\n",
      "Epoch 19/50\n",
      "2887/2887 [==============================] - 6s 2ms/step - loss: 0.0269 - accuracy: 0.9948 - val_loss: 0.0247 - val_accuracy: 0.9952\n",
      "Epoch 20/50\n",
      "2887/2887 [==============================] - 5s 2ms/step - loss: 0.0270 - accuracy: 0.9948 - val_loss: 0.0225 - val_accuracy: 0.9955\n",
      "Epoch 21/50\n",
      "2887/2887 [==============================] - 5s 2ms/step - loss: 0.0267 - accuracy: 0.9948 - val_loss: 0.0235 - val_accuracy: 0.9957\n",
      "Epoch 22/50\n",
      "2887/2887 [==============================] - 5s 2ms/step - loss: 0.0268 - accuracy: 0.9948 - val_loss: 0.0268 - val_accuracy: 0.9951\n",
      "Epoch 23/50\n",
      "2887/2887 [==============================] - 5s 2ms/step - loss: 0.0270 - accuracy: 0.9948 - val_loss: 0.0225 - val_accuracy: 0.9956\n",
      "Epoch 24/50\n",
      "2887/2887 [==============================] - 6s 2ms/step - loss: 0.0265 - accuracy: 0.9949 - val_loss: 0.0223 - val_accuracy: 0.9957\n",
      "Epoch 25/50\n",
      "2887/2887 [==============================] - 6s 2ms/step - loss: 0.0266 - accuracy: 0.9949 - val_loss: 0.0221 - val_accuracy: 0.9957\n",
      "Epoch 26/50\n",
      "2887/2887 [==============================] - 6s 2ms/step - loss: 0.0266 - accuracy: 0.9949 - val_loss: 0.0237 - val_accuracy: 0.9954\n",
      "Epoch 27/50\n",
      "2887/2887 [==============================] - 6s 2ms/step - loss: 0.0264 - accuracy: 0.9949 - val_loss: 0.0220 - val_accuracy: 0.9957\n",
      "Epoch 28/50\n",
      "2887/2887 [==============================] - 5s 2ms/step - loss: 0.0264 - accuracy: 0.9949 - val_loss: 0.0220 - val_accuracy: 0.9957\n",
      "Epoch 29/50\n",
      "2887/2887 [==============================] - 6s 2ms/step - loss: 0.0265 - accuracy: 0.9949 - val_loss: 0.0227 - val_accuracy: 0.9955\n",
      "Epoch 30/50\n",
      "2887/2887 [==============================] - 6s 2ms/step - loss: 0.0265 - accuracy: 0.9949 - val_loss: 0.0217 - val_accuracy: 0.9956\n",
      "Epoch 31/50\n",
      "2887/2887 [==============================] - 6s 2ms/step - loss: 0.0263 - accuracy: 0.9949 - val_loss: 0.0228 - val_accuracy: 0.9957\n",
      "Epoch 32/50\n",
      "2887/2887 [==============================] - 5s 2ms/step - loss: 0.0264 - accuracy: 0.9948 - val_loss: 0.0218 - val_accuracy: 0.9957\n",
      "Epoch 33/50\n",
      "2887/2887 [==============================] - 6s 2ms/step - loss: 0.0263 - accuracy: 0.9949 - val_loss: 0.0228 - val_accuracy: 0.9957\n",
      "Epoch 34/50\n",
      "2887/2887 [==============================] - 93s 32ms/step - loss: 0.0263 - accuracy: 0.9949 - val_loss: 0.0222 - val_accuracy: 0.9957\n",
      "Epoch 35/50\n",
      "2887/2887 [==============================] - 10s 3ms/step - loss: 0.0263 - accuracy: 0.9950 - val_loss: 0.0218 - val_accuracy: 0.9957\n",
      "Epoch 36/50\n",
      "2887/2887 [==============================] - 6s 2ms/step - loss: 0.0262 - accuracy: 0.9949 - val_loss: 0.0259 - val_accuracy: 0.9957\n",
      "Epoch 37/50\n",
      "2887/2887 [==============================] - 6s 2ms/step - loss: 0.0263 - accuracy: 0.9949 - val_loss: 0.0243 - val_accuracy: 0.9953\n",
      "Epoch 38/50\n",
      "2887/2887 [==============================] - 6s 2ms/step - loss: 0.0261 - accuracy: 0.9949 - val_loss: 0.0262 - val_accuracy: 0.9957\n",
      "Epoch 39/50\n",
      "2887/2887 [==============================] - 6s 2ms/step - loss: 0.0262 - accuracy: 0.9950 - val_loss: 0.0222 - val_accuracy: 0.9957\n",
      "Epoch 40/50\n",
      "2887/2887 [==============================] - 6s 2ms/step - loss: 0.0263 - accuracy: 0.9950 - val_loss: 0.0221 - val_accuracy: 0.9957\n",
      "Epoch 41/50\n",
      "2887/2887 [==============================] - 6s 2ms/step - loss: 0.0261 - accuracy: 0.9950 - val_loss: 0.0223 - val_accuracy: 0.9957\n",
      "Epoch 42/50\n",
      "2887/2887 [==============================] - 7s 2ms/step - loss: 0.0260 - accuracy: 0.9950 - val_loss: 0.0219 - val_accuracy: 0.9957\n",
      "Epoch 43/50\n",
      "2887/2887 [==============================] - 6s 2ms/step - loss: 0.0260 - accuracy: 0.9950 - val_loss: 0.0222 - val_accuracy: 0.9957\n",
      "Epoch 44/50\n",
      "2887/2887 [==============================] - 6s 2ms/step - loss: 0.0260 - accuracy: 0.9950 - val_loss: 0.0224 - val_accuracy: 0.9957\n",
      "Epoch 45/50\n",
      "2887/2887 [==============================] - 7s 2ms/step - loss: 0.0260 - accuracy: 0.9950 - val_loss: 0.0215 - val_accuracy: 0.9957\n",
      "Epoch 46/50\n",
      "2887/2887 [==============================] - 6s 2ms/step - loss: 0.0259 - accuracy: 0.9951 - val_loss: 0.0220 - val_accuracy: 0.9957\n",
      "Epoch 47/50\n",
      "2887/2887 [==============================] - 7s 2ms/step - loss: 0.0262 - accuracy: 0.9950 - val_loss: 0.0217 - val_accuracy: 0.9957\n",
      "Epoch 48/50\n",
      "2887/2887 [==============================] - 7s 2ms/step - loss: 0.0258 - accuracy: 0.9950 - val_loss: 0.0225 - val_accuracy: 0.9957\n",
      "Epoch 49/50\n",
      "2887/2887 [==============================] - 6s 2ms/step - loss: 0.0260 - accuracy: 0.9951 - val_loss: 0.0221 - val_accuracy: 0.9957\n",
      "Epoch 50/50\n",
      "2887/2887 [==============================] - 5s 2ms/step - loss: 0.0259 - accuracy: 0.9949 - val_loss: 0.0216 - val_accuracy: 0.9957\n"
     ]
    }
   ],
   "source": [
    "model, history = train_model(X_train, y_train, X_test, y_test)"
   ]
  },
  {
   "cell_type": "code",
   "execution_count": 51,
   "metadata": {},
   "outputs": [
    {
     "name": "stdout",
     "output_type": "stream",
     "text": [
      "Model: \"sequential\"\n",
      "_________________________________________________________________\n",
      " Layer (type)                Output Shape              Param #   \n",
      "=================================================================\n",
      " dense (Dense)               (None, 10)                110       \n",
      "                                                                 \n",
      " dense_1 (Dense)             (None, 1)                 11        \n",
      "                                                                 \n",
      "=================================================================\n",
      "Total params: 121 (484.00 Byte)\n",
      "Trainable params: 121 (484.00 Byte)\n",
      "Non-trainable params: 0 (0.00 Byte)\n",
      "_________________________________________________________________\n"
     ]
    }
   ],
   "source": [
    "model.summary()"
   ]
  },
  {
   "cell_type": "code",
   "execution_count": 52,
   "metadata": {},
   "outputs": [
    {
     "name": "stdout",
     "output_type": "stream",
     "text": [
      "397/397 [==============================] - 1s 2ms/step - loss: 0.0216 - accuracy: 0.9957\n",
      "Test Loss: 0.02163219265639782\n",
      "Test Accuracy: 0.9956672191619873\n",
      "397/397 [==============================] - 1s 937us/step\n"
     ]
    },
    {
     "data": {
      "image/png": "[encoded data removed]",
      "text/plain": [
       "<Figure size 200x200 with 2 Axes>"
      ]
     },
     "metadata": {},
     "output_type": "display_data"
    }
   ],
   "source": [
    "# Evaluate the model\n",
    "loss, accuracy = model.evaluate(X_test, y_test)\n",
    "print(f\"Test Loss: {loss}\")\n",
    "print(f\"Test Accuracy: {accuracy}\")\n",
    "\n",
    "# Predict classes\n",
    "y_pred = model.predict(X_test)\n",
    "\n",
    "# Since, the outputs are in the range of 0 and 1 for sigmoid, we consider the values as 0 if y_pred < 0.5, else the value is treated as 1\n",
    "y_pred_classes = np.where(y_pred < 0.5, 0, 1)\n",
    "\n",
    "# # Compute confusion matrix\n",
    "conf_mat = confusion_matrix(y_test, y_pred_classes)\n",
    "\n",
    "plt.figure(figsize=(2,2))\n",
    "sns.heatmap(conf_mat, annot=True, fmt=\"d\")\n",
    "plt.xlabel('Predicted Label')\n",
    "plt.ylabel('True Label')\n",
    "plt.title('Confusion Matrix')\n",
    "plt.show()"
   ]
  }
 ],
 "metadata": {
  "colab": {
   "provenance": []
  },
  "kernelspec": {
   "display_name": "Python 3 (ipykernel)",
   "language": "python",
   "name": "python3"
  },
  "language_info": {
   "codemirror_mode": {
    "name": "ipython",
    "version": 3
   },
   "file_extension": ".py",
   "mimetype": "text/x-python",
   "name": "python",
   "nbconvert_exporter": "python",
   "pygments_lexer": "ipython3",
   "version": "3.11.4"
  }
 },
 "nbformat": 4,
 "nbformat_minor": 4
}
